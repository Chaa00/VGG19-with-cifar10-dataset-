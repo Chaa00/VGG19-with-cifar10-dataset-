{
  "nbformat": 4,
  "nbformat_minor": 0,
  "metadata": {
    "colab": {
      "name": "VGG19.ipynb",
      "provenance": [],
      "authorship_tag": "ABX9TyP5u1nOAyd8N77Z5WCKimMU",
      "include_colab_link": true
    },
    "kernelspec": {
      "name": "python3",
      "display_name": "Python 3"
    }
  },
  "cells": [
    {
      "cell_type": "markdown",
      "metadata": {
        "id": "view-in-github",
        "colab_type": "text"
      },
      "source": [
        "<a href=\"https://colab.research.google.com/github/Chaa00/VGG19-with-cifar10-dataset-/blob/main/VGG19.ipynb\" target=\"_parent\"><img src=\"https://colab.research.google.com/assets/colab-badge.svg\" alt=\"Open In Colab\"/></a>"
      ]
    },
    {
      "cell_type": "code",
      "metadata": {
        "id": "khmQ6oClMwFs"
      },
      "source": [
        "#loading libraries\n",
        "from keras.datasets import cifar10\n",
        "from keras.preprocessing.image import ImageDataGenerator\n",
        "from keras.applications.vgg19 import VGG19\n",
        "from keras.preprocessing import image\n",
        "from keras.applications.vgg19 import preprocess_input\n",
        "from keras.layers import Input, Flatten, Dense\n",
        "from keras.models import Model\n",
        "from keras.optimizers import Adam\n",
        "import numpy as np\n",
        "from keras import utils\n",
        "from keras.utils import np_utils\n",
        "from sklearn.model_selection import train_test_split"
      ],
      "execution_count": 1,
      "outputs": []
    },
    {
      "cell_type": "code",
      "metadata": {
        "colab": {
          "base_uri": "https://localhost:8080/"
        },
        "id": "7KGKV_KnNhaL",
        "outputId": "5332641c-e9ab-4a06-b841-60d57fc2bdeb"
      },
      "source": [
        "#loading the dataset\n",
        "(x_train, y_train), (x_test, y_test) = cifar10.load_data()  #cifar10 dataset \n",
        "\n",
        "x_train, val_train, y_train, val_test = train_test_split( x_train, y_train, test_size=0.2, random_state=0) #utilisation de la validation set pour gérér le overfitting\n",
        "x_train.shape, y_train.shape, x_test.shape, y_test.shape"
      ],
      "execution_count": 2,
      "outputs": [
        {
          "output_type": "stream",
          "text": [
            "Downloading data from https://www.cs.toronto.edu/~kriz/cifar-10-python.tar.gz\n",
            "170500096/170498071 [==============================] - 4s 0us/step\n"
          ],
          "name": "stdout"
        },
        {
          "output_type": "execute_result",
          "data": {
            "text/plain": [
              "((40000, 32, 32, 3), (40000, 1), (10000, 32, 32, 3), (10000, 1))"
            ]
          },
          "metadata": {
            "tags": []
          },
          "execution_count": 2
        }
      ]
    },
    {
      "cell_type": "code",
      "metadata": {
        "id": "NRDNnlfhNtaz"
      },
      "source": [
        "y_train = np_utils.to_categorical(y_train, 10)\n",
        "val_test = np_utils.to_categorical(val_test, 10)\n",
        "y_test = np_utils.to_categorical(y_test, 10)"
      ],
      "execution_count": 3,
      "outputs": []
    },
    {
      "cell_type": "code",
      "metadata": {
        "id": "OiVkjiR6N7k0",
        "colab": {
          "base_uri": "https://localhost:8080/"
        },
        "outputId": "ecf91c51-12ed-419c-a7f6-c95463bc897f"
      },
      "source": [
        "from keras.applications.vgg19 import VGG19\n",
        "\n",
        "vgg19 = VGG19(include_top=False)\n",
        "\n",
        "for layer in vgg19.layers: \n",
        "  layer.trainable=False\n",
        "#Create our input \n",
        "input = Input(shape=(32,32, 3))\n",
        "\n",
        "#Use the generated model vgg19\n",
        "output_vgg19 = vgg19(input)\n",
        "from keras.layers.normalization import BatchNormalization\n",
        "from keras.layers.core import Dropout\n",
        "\n",
        "#Add the fully-connected layers \n",
        "x = Flatten(name='flatten')(output_vgg19)\n",
        "x = Dense(4096, activation='relu')(x)\n",
        "x = BatchNormalization()(x)\n",
        "x = Dropout(.5)(x)\n",
        "x = Dense(4096, activation='relu')(x) \n",
        "x = BatchNormalization()(x)\n",
        "x = Dropout(.5)(x)\n",
        "x = Dense(10, activation='softmax')(x)"
      ],
      "execution_count": 4,
      "outputs": [
        {
          "output_type": "stream",
          "text": [
            "Downloading data from https://storage.googleapis.com/tensorflow/keras-applications/vgg19/vgg19_weights_tf_dim_ordering_tf_kernels_notop.h5\n",
            "80142336/80134624 [==============================] - 0s 0us/step\n"
          ],
          "name": "stdout"
        }
      ]
    },
    {
      "cell_type": "code",
      "metadata": {
        "colab": {
          "base_uri": "https://localhost:8080/"
        },
        "id": "aH3R0aezN-pc",
        "outputId": "36e7e848-ee23-4e0b-d908-16c0b85873a5"
      },
      "source": [
        "my_model = Model(input, x)\n",
        "\n",
        "epochs = 3\n",
        "\n",
        "my_model.compile(optimizer='Adam', loss ='categorical_crossentropy', metrics=['accuracy'])\n",
        "\n",
        "batch_size= 256\n",
        "my_model.fit(x_train, y_train, batch_size=batch_size,epochs=epochs)"
      ],
      "execution_count": 6,
      "outputs": [
        {
          "output_type": "stream",
          "text": [
            "Epoch 1/3\n",
            "157/157 [==============================] - 569s 4s/step - loss: 1.4688 - accuracy: 0.5438\n",
            "Epoch 2/3\n",
            "157/157 [==============================] - 569s 4s/step - loss: 1.2290 - accuracy: 0.5914\n",
            "Epoch 3/3\n",
            "157/157 [==============================] - 567s 4s/step - loss: 1.1488 - accuracy: 0.6147\n"
          ],
          "name": "stdout"
        },
        {
          "output_type": "execute_result",
          "data": {
            "text/plain": [
              "<tensorflow.python.keras.callbacks.History at 0x7fea29275c18>"
            ]
          },
          "metadata": {
            "tags": []
          },
          "execution_count": 6
        }
      ]
    }
  ]
}